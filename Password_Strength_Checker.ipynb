{
  "nbformat": 4,
  "nbformat_minor": 0,
  "metadata": {
    "colab": {
      "provenance": [],
      "toc_visible": true
    },
    "kernelspec": {
      "name": "python3",
      "display_name": "Python 3"
    },
    "language_info": {
      "name": "python"
    }
  },
  "cells": [
    {
      "cell_type": "code",
      "execution_count": null,
      "metadata": {
        "id": "nhrSbTCKwG5P"
      },
      "outputs": [],
      "source": [
        "###  Define Password Strength Criteria"
      ]
    },
    {
      "cell_type": "code",
      "source": [
        "import re\n",
        "\n",
        "def check_criteria(password):\n",
        "    length_error = len(password) < 12\n",
        "    digit_error = re.search(r\"\\d\", password) is None\n",
        "    uppercase_error = re.search(r\"[A-Z]\", password) is None\n",
        "    lowercase_error = re.search(r\"[a-z]\", password) is None\n",
        "    symbol_error = re.search(r\"[!@#$%^&*(),.?\\\":{}|<>]\", password) is None\n",
        "    return length_error, digit_error, uppercase_error, lowercase_error, symbol_error\n"
      ],
      "metadata": {
        "id": "C3t8_q4qwd_5"
      },
      "execution_count": null,
      "outputs": []
    },
    {
      "cell_type": "code",
      "source": [
        "### Create Password Strength Scoring System"
      ],
      "metadata": {
        "id": "5WXrDtgbwnks"
      },
      "execution_count": null,
      "outputs": []
    },
    {
      "cell_type": "code",
      "source": [
        "def password_score(password):\n",
        "    errors = check_criteria(password)\n",
        "    score = 5 - sum(errors)\n",
        "    if score <= 2:\n",
        "        strength = \"Weak\"\n",
        "    elif score == 3 or score == 4:\n",
        "        strength = \"Moderate\"\n",
        "    else:\n",
        "        strength = \"Strong\"\n",
        "    return strength\n"
      ],
      "metadata": {
        "id": "ATroG842wuQr"
      },
      "execution_count": null,
      "outputs": []
    },
    {
      "cell_type": "code",
      "source": [
        "### Check Against Common Passwords"
      ],
      "metadata": {
        "id": "5E_emtFiw1H1"
      },
      "execution_count": null,
      "outputs": []
    },
    {
      "cell_type": "code",
      "source": [
        "COMMON_PASSWORDS = ['123456', 'password', '12345678', 'qwerty', 'abc123']\n",
        "\n",
        "def is_common_password(password):\n",
        "    return password.lower() in COMMON_PASSWORDS\n"
      ],
      "metadata": {
        "id": "rhb_87amw7ii"
      },
      "execution_count": null,
      "outputs": []
    },
    {
      "cell_type": "code",
      "source": [
        "### Estimate Crack Time (Optional but Impressive)"
      ],
      "metadata": {
        "id": "AM-girhBxBrJ"
      },
      "execution_count": null,
      "outputs": []
    },
    {
      "cell_type": "code",
      "source": [
        "def estimate_crack_time(password):\n",
        "    charset = 0\n",
        "    if re.search(r\"[a-z]\", password): charset += 26\n",
        "    if re.search(r\"[A-Z]\", password): charset += 26\n",
        "    if re.search(r\"\\d\", password): charset += 10\n",
        "    if re.search(r\"[!@#$%^&*(),.?\\\":{}|<>]\", password): charset += 32\n",
        "    combinations = charset ** len(password)\n",
        "    seconds = combinations / (1e9)  # Assume 1 billion guesses/sec\n",
        "    years = seconds / (60 * 60 * 24 * 365)\n",
        "    return years\n"
      ],
      "metadata": {
        "id": "U7lV3ED9xO03"
      },
      "execution_count": null,
      "outputs": []
    },
    {
      "cell_type": "code",
      "source": [
        "###  Suggest Stronger Passwords"
      ],
      "metadata": {
        "id": "-FfyK6JTxhDa"
      },
      "execution_count": null,
      "outputs": []
    },
    {
      "cell_type": "code",
      "source": [
        "import random\n",
        "import string\n",
        "\n",
        "def generate_strong_password(length=16):\n",
        "    all_chars = string.ascii_letters + string.digits + \"!@#$%^&*()\"\n",
        "    return ''.join(random.choice(all_chars) for _ in range(length))\n"
      ],
      "metadata": {
        "id": "wrzkKK01412h"
      },
      "execution_count": null,
      "outputs": []
    },
    {
      "cell_type": "code",
      "source": [],
      "metadata": {
        "id": "RJPO-N_K4_WR"
      },
      "execution_count": null,
      "outputs": []
    }
  ]
}